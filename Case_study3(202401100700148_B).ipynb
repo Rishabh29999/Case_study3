{
  "nbformat": 4,
  "nbformat_minor": 0,
  "metadata": {
    "colab": {
      "provenance": [],
      "authorship_tag": "ABX9TyOaP6FgLaCv8sLhJnKOMnTn",
      "include_colab_link": true
    },
    "kernelspec": {
      "name": "python3",
      "display_name": "Python 3"
    },
    "language_info": {
      "name": "python"
    }
  },
  "cells": [
    {
      "cell_type": "markdown",
      "metadata": {
        "id": "view-in-github",
        "colab_type": "text"
      },
      "source": [
        "<a href=\"https://colab.research.google.com/github/Rishabh29999/Case_study3/blob/main/Case_study3(202401100700148_B).ipynb\" target=\"_parent\"><img src=\"https://colab.research.google.com/assets/colab-badge.svg\" alt=\"Open In Colab\"/></a>"
      ]
    },
    {
      "cell_type": "code",
      "execution_count": 4,
      "metadata": {
        "colab": {
          "base_uri": "https://localhost:8080/",
          "height": 0
        },
        "id": "WLRE5hBXg5Hr",
        "outputId": "98d9b05e-187e-4f0b-846d-965dd7914f88"
      },
      "outputs": [
        {
          "output_type": "stream",
          "name": "stdout",
          "text": [
            "Current Temperature: 28.1°C\n",
            "Current Temperature: 25.8°C\n",
            "Current Temperature: 27.6°C\n",
            "Current Temperature: 20.8°C\n",
            "Current Temperature: 29.4°C\n",
            "Current Temperature: 25.2°C\n",
            "Current Temperature: 22.4°C\n",
            "Current Temperature: 21.1°C\n",
            "Current Temperature: 25.3°C\n",
            "Current Temperature: 28.6°C\n",
            "Current Temperature: 26.9°C\n",
            "Current Temperature: 25.9°C\n",
            "Current Temperature: 22.1°C\n",
            "Current Temperature: 26.2°C\n",
            "Current Temperature: 29.5°C\n",
            "Current Temperature: 21.5°C\n",
            "Current Temperature: 25.6°C\n",
            "Current Temperature: 20.2°C\n",
            "Current Temperature: 20.9°C\n",
            "Current Temperature: 28.3°C\n",
            "Current Temperature: 23.0°C\n",
            "Current Temperature: 28.5°C\n",
            "Current Temperature: 22.3°C\n",
            "Current Temperature: 21.1°C\n",
            "Current Temperature: 27.2°C\n",
            "Temperature monitoring stopped.\n"
          ]
        }
      ],
      "source": [
        "import time\n",
        "import random\n",
        "\n",
        "def get_temperature():\n",
        "\n",
        "  return round(random.uniform(20, 30), 1)\n",
        "\n",
        "def monitor_temperature():\n",
        "\n",
        "  while True:\n",
        "    temperature = get_temperature()\n",
        "    print(f\"Current Temperature: {temperature}°C\")\n",
        "    time.sleep(5)\n",
        "\n",
        "if __name__ == \"__main__\":\n",
        "  try:\n",
        "    monitor_temperature()\n",
        "  except KeyboardInterrupt:\n",
        "    print(\"Temperature monitoring stopped.\")"
      ]
    }
  ]
}